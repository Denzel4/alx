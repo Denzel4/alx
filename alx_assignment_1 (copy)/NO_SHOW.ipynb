{
 "cells": [
  {
   "cell_type": "markdown",
   "id": "4ef4c6ec",
   "metadata": {},
   "source": [
    "# IMPORT MODULES"
   ]
  },
  {
   "cell_type": "code",
   "execution_count": 1,
   "id": "b04585c2",
   "metadata": {},
   "outputs": [
    {
     "name": "stdout",
     "output_type": "stream",
     "text": [
      "Defaulting to user installation because normal site-packages is not writeable\n",
      "Requirement already satisfied: seaborn in /home/poseidon/.local/lib/python3.10/site-packages (0.11.2)\n",
      "Requirement already satisfied: pandas>=0.23 in /home/poseidon/.local/lib/python3.10/site-packages (from seaborn) (1.4.2)\n",
      "Requirement already satisfied: matplotlib>=2.2 in /usr/lib/python3/dist-packages (from seaborn) (3.5.1)\n",
      "Requirement already satisfied: numpy>=1.15 in /usr/lib/python3/dist-packages (from seaborn) (1.21.5)\n",
      "Requirement already satisfied: scipy>=1.0 in /usr/lib/python3/dist-packages (from seaborn) (1.8.0)\n",
      "Requirement already satisfied: python-dateutil>=2.8.1 in /usr/lib/python3/dist-packages (from pandas>=0.23->seaborn) (2.8.1)\n",
      "Requirement already satisfied: pytz>=2020.1 in /usr/lib/python3/dist-packages (from pandas>=0.23->seaborn) (2022.1)\n"
     ]
    }
   ],
   "source": [
    "!pip install seaborn"
   ]
  },
  {
   "cell_type": "code",
   "execution_count": 3,
   "id": "dd02ade7",
   "metadata": {},
   "outputs": [
    {
     "name": "stderr",
     "output_type": "stream",
     "text": [
      "UsageError: Line magic function `%` not found.\n"
     ]
    }
   ],
   "source": [
    "\n",
    "import numpy as np\n",
    "import pandas as pd\n",
    "import matplotlib.pyplot as plt\n",
    "import seaborn as sns\n",
    "% matplotlib inline"
   ]
  },
  {
   "cell_type": "markdown",
   "id": "3e32df8f",
   "metadata": {},
   "source": [
    "## Data Used"
   ]
  },
  {
   "cell_type": "markdown",
   "id": "185a6130",
   "metadata": {},
   "source": [
    "The project used the no-show dataset.Use the points below as reference and data catalogue.\n",
    "\n",
    "This dataset collects information from 100k medical appointments in Brazil and is focused on the question of whether or not patients show up for their appointment. A number of characteristics about the patient are included in each row.\n",
    "1.    ● ‘ScheduledDay’ tells us on what day the patient set up their appointment.\n",
    "2.    ● ‘Neighborhood’ indicates the location of the hospital.\n",
    "3.    ● ‘Scholarship’ indicates whether or not the patient is enrolled in Brasilian     welfare program Bolsa Família.\n",
    " 4.   ● Be careful about the encoding of the last column: it says ‘No’ if the patient showed up to their appointment, and ‘Yes’ if they did not show up."
   ]
  },
  {
   "cell_type": "markdown",
   "id": "b27fb9a5",
   "metadata": {},
   "source": [
    "### Loading Data"
   ]
  },
  {
   "cell_type": "code",
   "execution_count": 4,
   "id": "2c1a338c",
   "metadata": {},
   "outputs": [],
   "source": [
    "data = pd.read_csv('noshow.csv',index_col=False)"
   ]
  },
  {
   "cell_type": "code",
   "execution_count": 5,
   "id": "b83f9952",
   "metadata": {},
   "outputs": [
    {
     "data": {
      "text/html": [
       "<div>\n",
       "<style scoped>\n",
       "    .dataframe tbody tr th:only-of-type {\n",
       "        vertical-align: middle;\n",
       "    }\n",
       "\n",
       "    .dataframe tbody tr th {\n",
       "        vertical-align: top;\n",
       "    }\n",
       "\n",
       "    .dataframe thead th {\n",
       "        text-align: right;\n",
       "    }\n",
       "</style>\n",
       "<table border=\"1\" class=\"dataframe\">\n",
       "  <thead>\n",
       "    <tr style=\"text-align: right;\">\n",
       "      <th></th>\n",
       "      <th>PatientId</th>\n",
       "      <th>AppointmentID</th>\n",
       "      <th>Gender</th>\n",
       "      <th>ScheduledDay</th>\n",
       "      <th>AppointmentDay</th>\n",
       "      <th>Age</th>\n",
       "      <th>Neighbourhood</th>\n",
       "      <th>Scholarship</th>\n",
       "      <th>Hipertension</th>\n",
       "      <th>Diabetes</th>\n",
       "      <th>Alcoholism</th>\n",
       "      <th>Handcap</th>\n",
       "      <th>SMS_received</th>\n",
       "      <th>No-show</th>\n",
       "    </tr>\n",
       "  </thead>\n",
       "  <tbody>\n",
       "    <tr>\n",
       "      <th>0</th>\n",
       "      <td>2.987250e+13</td>\n",
       "      <td>5642903</td>\n",
       "      <td>F</td>\n",
       "      <td>2016-04-29T18:38:08Z</td>\n",
       "      <td>2016-04-29T00:00:00Z</td>\n",
       "      <td>62</td>\n",
       "      <td>JARDIM DA PENHA</td>\n",
       "      <td>0</td>\n",
       "      <td>1</td>\n",
       "      <td>0</td>\n",
       "      <td>0</td>\n",
       "      <td>0</td>\n",
       "      <td>0</td>\n",
       "      <td>No</td>\n",
       "    </tr>\n",
       "    <tr>\n",
       "      <th>1</th>\n",
       "      <td>5.589978e+14</td>\n",
       "      <td>5642503</td>\n",
       "      <td>M</td>\n",
       "      <td>2016-04-29T16:08:27Z</td>\n",
       "      <td>2016-04-29T00:00:00Z</td>\n",
       "      <td>56</td>\n",
       "      <td>JARDIM DA PENHA</td>\n",
       "      <td>0</td>\n",
       "      <td>0</td>\n",
       "      <td>0</td>\n",
       "      <td>0</td>\n",
       "      <td>0</td>\n",
       "      <td>0</td>\n",
       "      <td>No</td>\n",
       "    </tr>\n",
       "    <tr>\n",
       "      <th>2</th>\n",
       "      <td>4.262962e+12</td>\n",
       "      <td>5642549</td>\n",
       "      <td>F</td>\n",
       "      <td>2016-04-29T16:19:04Z</td>\n",
       "      <td>2016-04-29T00:00:00Z</td>\n",
       "      <td>62</td>\n",
       "      <td>MATA DA PRAIA</td>\n",
       "      <td>0</td>\n",
       "      <td>0</td>\n",
       "      <td>0</td>\n",
       "      <td>0</td>\n",
       "      <td>0</td>\n",
       "      <td>0</td>\n",
       "      <td>No</td>\n",
       "    </tr>\n",
       "    <tr>\n",
       "      <th>3</th>\n",
       "      <td>8.679512e+11</td>\n",
       "      <td>5642828</td>\n",
       "      <td>F</td>\n",
       "      <td>2016-04-29T17:29:31Z</td>\n",
       "      <td>2016-04-29T00:00:00Z</td>\n",
       "      <td>8</td>\n",
       "      <td>PONTAL DE CAMBURI</td>\n",
       "      <td>0</td>\n",
       "      <td>0</td>\n",
       "      <td>0</td>\n",
       "      <td>0</td>\n",
       "      <td>0</td>\n",
       "      <td>0</td>\n",
       "      <td>No</td>\n",
       "    </tr>\n",
       "    <tr>\n",
       "      <th>4</th>\n",
       "      <td>8.841186e+12</td>\n",
       "      <td>5642494</td>\n",
       "      <td>F</td>\n",
       "      <td>2016-04-29T16:07:23Z</td>\n",
       "      <td>2016-04-29T00:00:00Z</td>\n",
       "      <td>56</td>\n",
       "      <td>JARDIM DA PENHA</td>\n",
       "      <td>0</td>\n",
       "      <td>1</td>\n",
       "      <td>1</td>\n",
       "      <td>0</td>\n",
       "      <td>0</td>\n",
       "      <td>0</td>\n",
       "      <td>No</td>\n",
       "    </tr>\n",
       "  </tbody>\n",
       "</table>\n",
       "</div>"
      ],
      "text/plain": [
       "      PatientId  AppointmentID Gender          ScheduledDay  \\\n",
       "0  2.987250e+13        5642903      F  2016-04-29T18:38:08Z   \n",
       "1  5.589978e+14        5642503      M  2016-04-29T16:08:27Z   \n",
       "2  4.262962e+12        5642549      F  2016-04-29T16:19:04Z   \n",
       "3  8.679512e+11        5642828      F  2016-04-29T17:29:31Z   \n",
       "4  8.841186e+12        5642494      F  2016-04-29T16:07:23Z   \n",
       "\n",
       "         AppointmentDay  Age      Neighbourhood  Scholarship  Hipertension  \\\n",
       "0  2016-04-29T00:00:00Z   62    JARDIM DA PENHA            0             1   \n",
       "1  2016-04-29T00:00:00Z   56    JARDIM DA PENHA            0             0   \n",
       "2  2016-04-29T00:00:00Z   62      MATA DA PRAIA            0             0   \n",
       "3  2016-04-29T00:00:00Z    8  PONTAL DE CAMBURI            0             0   \n",
       "4  2016-04-29T00:00:00Z   56    JARDIM DA PENHA            0             1   \n",
       "\n",
       "   Diabetes  Alcoholism  Handcap  SMS_received No-show  \n",
       "0         0           0        0             0      No  \n",
       "1         0           0        0             0      No  \n",
       "2         0           0        0             0      No  \n",
       "3         0           0        0             0      No  \n",
       "4         1           0        0             0      No  "
      ]
     },
     "execution_count": 5,
     "metadata": {},
     "output_type": "execute_result"
    }
   ],
   "source": [
    "# data head\n",
    "data.head()"
   ]
  },
  {
   "cell_type": "code",
   "execution_count": 6,
   "id": "edefd2c5",
   "metadata": {},
   "outputs": [
    {
     "data": {
      "text/html": [
       "<div>\n",
       "<style scoped>\n",
       "    .dataframe tbody tr th:only-of-type {\n",
       "        vertical-align: middle;\n",
       "    }\n",
       "\n",
       "    .dataframe tbody tr th {\n",
       "        vertical-align: top;\n",
       "    }\n",
       "\n",
       "    .dataframe thead th {\n",
       "        text-align: right;\n",
       "    }\n",
       "</style>\n",
       "<table border=\"1\" class=\"dataframe\">\n",
       "  <thead>\n",
       "    <tr style=\"text-align: right;\">\n",
       "      <th></th>\n",
       "      <th>PatientId</th>\n",
       "      <th>AppointmentID</th>\n",
       "      <th>Gender</th>\n",
       "      <th>ScheduledDay</th>\n",
       "      <th>AppointmentDay</th>\n",
       "      <th>Age</th>\n",
       "      <th>Neighbourhood</th>\n",
       "      <th>Scholarship</th>\n",
       "      <th>Hipertension</th>\n",
       "      <th>Diabetes</th>\n",
       "      <th>Alcoholism</th>\n",
       "      <th>Handcap</th>\n",
       "      <th>SMS_received</th>\n",
       "      <th>No-show</th>\n",
       "    </tr>\n",
       "  </thead>\n",
       "  <tbody>\n",
       "    <tr>\n",
       "      <th>110522</th>\n",
       "      <td>2.572134e+12</td>\n",
       "      <td>5651768</td>\n",
       "      <td>F</td>\n",
       "      <td>2016-05-03T09:15:35Z</td>\n",
       "      <td>2016-06-07T00:00:00Z</td>\n",
       "      <td>56</td>\n",
       "      <td>MARIA ORTIZ</td>\n",
       "      <td>0</td>\n",
       "      <td>0</td>\n",
       "      <td>0</td>\n",
       "      <td>0</td>\n",
       "      <td>0</td>\n",
       "      <td>1</td>\n",
       "      <td>No</td>\n",
       "    </tr>\n",
       "    <tr>\n",
       "      <th>110523</th>\n",
       "      <td>3.596266e+12</td>\n",
       "      <td>5650093</td>\n",
       "      <td>F</td>\n",
       "      <td>2016-05-03T07:27:33Z</td>\n",
       "      <td>2016-06-07T00:00:00Z</td>\n",
       "      <td>51</td>\n",
       "      <td>MARIA ORTIZ</td>\n",
       "      <td>0</td>\n",
       "      <td>0</td>\n",
       "      <td>0</td>\n",
       "      <td>0</td>\n",
       "      <td>0</td>\n",
       "      <td>1</td>\n",
       "      <td>No</td>\n",
       "    </tr>\n",
       "    <tr>\n",
       "      <th>110524</th>\n",
       "      <td>1.557663e+13</td>\n",
       "      <td>5630692</td>\n",
       "      <td>F</td>\n",
       "      <td>2016-04-27T16:03:52Z</td>\n",
       "      <td>2016-06-07T00:00:00Z</td>\n",
       "      <td>21</td>\n",
       "      <td>MARIA ORTIZ</td>\n",
       "      <td>0</td>\n",
       "      <td>0</td>\n",
       "      <td>0</td>\n",
       "      <td>0</td>\n",
       "      <td>0</td>\n",
       "      <td>1</td>\n",
       "      <td>No</td>\n",
       "    </tr>\n",
       "    <tr>\n",
       "      <th>110525</th>\n",
       "      <td>9.213493e+13</td>\n",
       "      <td>5630323</td>\n",
       "      <td>F</td>\n",
       "      <td>2016-04-27T15:09:23Z</td>\n",
       "      <td>2016-06-07T00:00:00Z</td>\n",
       "      <td>38</td>\n",
       "      <td>MARIA ORTIZ</td>\n",
       "      <td>0</td>\n",
       "      <td>0</td>\n",
       "      <td>0</td>\n",
       "      <td>0</td>\n",
       "      <td>0</td>\n",
       "      <td>1</td>\n",
       "      <td>No</td>\n",
       "    </tr>\n",
       "    <tr>\n",
       "      <th>110526</th>\n",
       "      <td>3.775115e+14</td>\n",
       "      <td>5629448</td>\n",
       "      <td>F</td>\n",
       "      <td>2016-04-27T13:30:56Z</td>\n",
       "      <td>2016-06-07T00:00:00Z</td>\n",
       "      <td>54</td>\n",
       "      <td>MARIA ORTIZ</td>\n",
       "      <td>0</td>\n",
       "      <td>0</td>\n",
       "      <td>0</td>\n",
       "      <td>0</td>\n",
       "      <td>0</td>\n",
       "      <td>1</td>\n",
       "      <td>No</td>\n",
       "    </tr>\n",
       "  </tbody>\n",
       "</table>\n",
       "</div>"
      ],
      "text/plain": [
       "           PatientId  AppointmentID Gender          ScheduledDay  \\\n",
       "110522  2.572134e+12        5651768      F  2016-05-03T09:15:35Z   \n",
       "110523  3.596266e+12        5650093      F  2016-05-03T07:27:33Z   \n",
       "110524  1.557663e+13        5630692      F  2016-04-27T16:03:52Z   \n",
       "110525  9.213493e+13        5630323      F  2016-04-27T15:09:23Z   \n",
       "110526  3.775115e+14        5629448      F  2016-04-27T13:30:56Z   \n",
       "\n",
       "              AppointmentDay  Age Neighbourhood  Scholarship  Hipertension  \\\n",
       "110522  2016-06-07T00:00:00Z   56   MARIA ORTIZ            0             0   \n",
       "110523  2016-06-07T00:00:00Z   51   MARIA ORTIZ            0             0   \n",
       "110524  2016-06-07T00:00:00Z   21   MARIA ORTIZ            0             0   \n",
       "110525  2016-06-07T00:00:00Z   38   MARIA ORTIZ            0             0   \n",
       "110526  2016-06-07T00:00:00Z   54   MARIA ORTIZ            0             0   \n",
       "\n",
       "        Diabetes  Alcoholism  Handcap  SMS_received No-show  \n",
       "110522         0           0        0             1      No  \n",
       "110523         0           0        0             1      No  \n",
       "110524         0           0        0             1      No  \n",
       "110525         0           0        0             1      No  \n",
       "110526         0           0        0             1      No  "
      ]
     },
     "execution_count": 6,
     "metadata": {},
     "output_type": "execute_result"
    }
   ],
   "source": [
    "data.tail()"
   ]
  },
  {
   "cell_type": "markdown",
   "id": "51b3e3aa",
   "metadata": {},
   "source": [
    "## ANALYSIS GUIDELINES\n",
    "    1.Does gender play a role in the no show?\n",
    "    \n",
    "    2.What is the relationship between age and no-show? \n",
    "    \n",
    "    3. Does age-group add on this effect?\n",
    "    \n",
    "    4. What is the relationship between neighborhood and:\n",
    "        >scholarship,alcoholism,hipertension\n",
    "        \n",
    "    5. Did the factors in question 4 affect the patient show up?"
   ]
  },
  {
   "cell_type": "code",
   "execution_count": 7,
   "id": "3dc0c670",
   "metadata": {},
   "outputs": [
    {
     "data": {
      "text/plain": [
       "Index(['PatientId', 'AppointmentID', 'Gender', 'ScheduledDay',\n",
       "       'AppointmentDay', 'Age', 'Neighbourhood', 'Scholarship', 'Hipertension',\n",
       "       'Diabetes', 'Alcoholism', 'Handcap', 'SMS_received', 'No-show'],\n",
       "      dtype='object')"
      ]
     },
     "execution_count": 7,
     "metadata": {},
     "output_type": "execute_result"
    }
   ],
   "source": [
    "data.keys()"
   ]
  },
  {
   "cell_type": "markdown",
   "id": "6afcf93e",
   "metadata": {},
   "source": [
    "## Exploratory Data Analysis"
   ]
  },
  {
   "cell_type": "code",
   "execution_count": 8,
   "id": "481a9190",
   "metadata": {},
   "outputs": [
    {
     "name": "stdout",
     "output_type": "stream",
     "text": [
      "<class 'pandas.core.frame.DataFrame'>\n",
      "RangeIndex: 110527 entries, 0 to 110526\n",
      "Data columns (total 14 columns):\n",
      " #   Column          Non-Null Count   Dtype  \n",
      "---  ------          --------------   -----  \n",
      " 0   PatientId       110527 non-null  float64\n",
      " 1   AppointmentID   110527 non-null  int64  \n",
      " 2   Gender          110527 non-null  object \n",
      " 3   ScheduledDay    110527 non-null  object \n",
      " 4   AppointmentDay  110527 non-null  object \n",
      " 5   Age             110527 non-null  int64  \n",
      " 6   Neighbourhood   110527 non-null  object \n",
      " 7   Scholarship     110527 non-null  int64  \n",
      " 8   Hipertension    110527 non-null  int64  \n",
      " 9   Diabetes        110527 non-null  int64  \n",
      " 10  Alcoholism      110527 non-null  int64  \n",
      " 11  Handcap         110527 non-null  int64  \n",
      " 12  SMS_received    110527 non-null  int64  \n",
      " 13  No-show         110527 non-null  object \n",
      "dtypes: float64(1), int64(8), object(5)\n",
      "memory usage: 11.8+ MB\n"
     ]
    }
   ],
   "source": [
    "data.info()"
   ]
  },
  {
   "cell_type": "code",
   "execution_count": 9,
   "id": "64c98336",
   "metadata": {},
   "outputs": [
    {
     "data": {
      "text/plain": [
       "dtype('float64')"
      ]
     },
     "execution_count": 9,
     "metadata": {},
     "output_type": "execute_result"
    }
   ],
   "source": [
    "data['PatientId'].dtype"
   ]
  },
  {
   "cell_type": "code",
   "execution_count": 10,
   "id": "0e4b44ca",
   "metadata": {},
   "outputs": [
    {
     "data": {
      "text/plain": [
       "dtype('int64')"
      ]
     },
     "execution_count": 10,
     "metadata": {},
     "output_type": "execute_result"
    }
   ],
   "source": [
    "data['AppointmentID'].dtype"
   ]
  },
  {
   "cell_type": "code",
   "execution_count": 11,
   "id": "67e94c66",
   "metadata": {},
   "outputs": [
    {
     "name": "stdout",
     "output_type": "stream",
     "text": [
      "float64\n"
     ]
    },
    {
     "data": {
      "text/plain": [
       "dtype('O')"
      ]
     },
     "execution_count": 11,
     "metadata": {},
     "output_type": "execute_result"
    }
   ],
   "source": [
    "# It is best practice to have patient ID's as strings\n",
    "print(data['PatientId'].dtype)\n",
    "data['PatientId'] = data['PatientId'].astype(str)\n",
    "data['PatientId'].dtype\n",
    "data['AppointmentID'].dtype\n",
    "data['AppointmentID'] = data['AppointmentID'].astype(str)\n",
    "data['AppointmentID'].dtype"
   ]
  },
  {
   "cell_type": "code",
   "execution_count": 12,
   "id": "56e523ed",
   "metadata": {
    "scrolled": true
   },
   "outputs": [
    {
     "data": {
      "text/html": [
       "<div>\n",
       "<style scoped>\n",
       "    .dataframe tbody tr th:only-of-type {\n",
       "        vertical-align: middle;\n",
       "    }\n",
       "\n",
       "    .dataframe tbody tr th {\n",
       "        vertical-align: top;\n",
       "    }\n",
       "\n",
       "    .dataframe thead th {\n",
       "        text-align: right;\n",
       "    }\n",
       "</style>\n",
       "<table border=\"1\" class=\"dataframe\">\n",
       "  <thead>\n",
       "    <tr style=\"text-align: right;\">\n",
       "      <th></th>\n",
       "      <th>Age</th>\n",
       "      <th>Scholarship</th>\n",
       "      <th>Hipertension</th>\n",
       "      <th>Diabetes</th>\n",
       "      <th>Alcoholism</th>\n",
       "      <th>Handcap</th>\n",
       "      <th>SMS_received</th>\n",
       "    </tr>\n",
       "  </thead>\n",
       "  <tbody>\n",
       "    <tr>\n",
       "      <th>count</th>\n",
       "      <td>110527.000000</td>\n",
       "      <td>110527.000000</td>\n",
       "      <td>110527.000000</td>\n",
       "      <td>110527.000000</td>\n",
       "      <td>110527.000000</td>\n",
       "      <td>110527.000000</td>\n",
       "      <td>110527.000000</td>\n",
       "    </tr>\n",
       "    <tr>\n",
       "      <th>mean</th>\n",
       "      <td>37.088874</td>\n",
       "      <td>0.098266</td>\n",
       "      <td>0.197246</td>\n",
       "      <td>0.071865</td>\n",
       "      <td>0.030400</td>\n",
       "      <td>0.022248</td>\n",
       "      <td>0.321026</td>\n",
       "    </tr>\n",
       "    <tr>\n",
       "      <th>std</th>\n",
       "      <td>23.110205</td>\n",
       "      <td>0.297675</td>\n",
       "      <td>0.397921</td>\n",
       "      <td>0.258265</td>\n",
       "      <td>0.171686</td>\n",
       "      <td>0.161543</td>\n",
       "      <td>0.466873</td>\n",
       "    </tr>\n",
       "    <tr>\n",
       "      <th>min</th>\n",
       "      <td>-1.000000</td>\n",
       "      <td>0.000000</td>\n",
       "      <td>0.000000</td>\n",
       "      <td>0.000000</td>\n",
       "      <td>0.000000</td>\n",
       "      <td>0.000000</td>\n",
       "      <td>0.000000</td>\n",
       "    </tr>\n",
       "    <tr>\n",
       "      <th>25%</th>\n",
       "      <td>18.000000</td>\n",
       "      <td>0.000000</td>\n",
       "      <td>0.000000</td>\n",
       "      <td>0.000000</td>\n",
       "      <td>0.000000</td>\n",
       "      <td>0.000000</td>\n",
       "      <td>0.000000</td>\n",
       "    </tr>\n",
       "    <tr>\n",
       "      <th>50%</th>\n",
       "      <td>37.000000</td>\n",
       "      <td>0.000000</td>\n",
       "      <td>0.000000</td>\n",
       "      <td>0.000000</td>\n",
       "      <td>0.000000</td>\n",
       "      <td>0.000000</td>\n",
       "      <td>0.000000</td>\n",
       "    </tr>\n",
       "    <tr>\n",
       "      <th>75%</th>\n",
       "      <td>55.000000</td>\n",
       "      <td>0.000000</td>\n",
       "      <td>0.000000</td>\n",
       "      <td>0.000000</td>\n",
       "      <td>0.000000</td>\n",
       "      <td>0.000000</td>\n",
       "      <td>1.000000</td>\n",
       "    </tr>\n",
       "    <tr>\n",
       "      <th>max</th>\n",
       "      <td>115.000000</td>\n",
       "      <td>1.000000</td>\n",
       "      <td>1.000000</td>\n",
       "      <td>1.000000</td>\n",
       "      <td>1.000000</td>\n",
       "      <td>4.000000</td>\n",
       "      <td>1.000000</td>\n",
       "    </tr>\n",
       "  </tbody>\n",
       "</table>\n",
       "</div>"
      ],
      "text/plain": [
       "                 Age    Scholarship   Hipertension       Diabetes  \\\n",
       "count  110527.000000  110527.000000  110527.000000  110527.000000   \n",
       "mean       37.088874       0.098266       0.197246       0.071865   \n",
       "std        23.110205       0.297675       0.397921       0.258265   \n",
       "min        -1.000000       0.000000       0.000000       0.000000   \n",
       "25%        18.000000       0.000000       0.000000       0.000000   \n",
       "50%        37.000000       0.000000       0.000000       0.000000   \n",
       "75%        55.000000       0.000000       0.000000       0.000000   \n",
       "max       115.000000       1.000000       1.000000       1.000000   \n",
       "\n",
       "          Alcoholism        Handcap   SMS_received  \n",
       "count  110527.000000  110527.000000  110527.000000  \n",
       "mean        0.030400       0.022248       0.321026  \n",
       "std         0.171686       0.161543       0.466873  \n",
       "min         0.000000       0.000000       0.000000  \n",
       "25%         0.000000       0.000000       0.000000  \n",
       "50%         0.000000       0.000000       0.000000  \n",
       "75%         0.000000       0.000000       1.000000  \n",
       "max         1.000000       4.000000       1.000000  "
      ]
     },
     "execution_count": 12,
     "metadata": {},
     "output_type": "execute_result"
    }
   ],
   "source": [
    "data.describe()"
   ]
  },
  {
   "cell_type": "code",
   "execution_count": 13,
   "id": "54c07e40",
   "metadata": {},
   "outputs": [],
   "source": [
    "#Checking for nulls"
   ]
  },
  {
   "cell_type": "code",
   "execution_count": 14,
   "id": "01dfd57f",
   "metadata": {},
   "outputs": [
    {
     "data": {
      "text/plain": [
       "PatientId         0\n",
       "AppointmentID     0\n",
       "Gender            0\n",
       "ScheduledDay      0\n",
       "AppointmentDay    0\n",
       "Age               0\n",
       "Neighbourhood     0\n",
       "Scholarship       0\n",
       "Hipertension      0\n",
       "Diabetes          0\n",
       "Alcoholism        0\n",
       "Handcap           0\n",
       "SMS_received      0\n",
       "No-show           0\n",
       "dtype: int64"
      ]
     },
     "execution_count": 14,
     "metadata": {},
     "output_type": "execute_result"
    }
   ],
   "source": [
    "data.isna().sum()"
   ]
  },
  {
   "cell_type": "code",
   "execution_count": 15,
   "id": "3072181d",
   "metadata": {},
   "outputs": [],
   "source": [
    "# there are no nulls in the provided data"
   ]
  },
  {
   "cell_type": "code",
   "execution_count": 16,
   "id": "f1252df4",
   "metadata": {},
   "outputs": [
    {
     "data": {
      "text/html": [
       "<div>\n",
       "<style scoped>\n",
       "    .dataframe tbody tr th:only-of-type {\n",
       "        vertical-align: middle;\n",
       "    }\n",
       "\n",
       "    .dataframe tbody tr th {\n",
       "        vertical-align: top;\n",
       "    }\n",
       "\n",
       "    .dataframe thead th {\n",
       "        text-align: right;\n",
       "    }\n",
       "</style>\n",
       "<table border=\"1\" class=\"dataframe\">\n",
       "  <thead>\n",
       "    <tr style=\"text-align: right;\">\n",
       "      <th></th>\n",
       "      <th>PatientId</th>\n",
       "      <th>AppointmentID</th>\n",
       "      <th>Gender</th>\n",
       "      <th>ScheduledDay</th>\n",
       "      <th>AppointmentDay</th>\n",
       "      <th>Age</th>\n",
       "      <th>Neighbourhood</th>\n",
       "      <th>Scholarship</th>\n",
       "      <th>Hipertension</th>\n",
       "      <th>Diabetes</th>\n",
       "      <th>Alcoholism</th>\n",
       "      <th>Handcap</th>\n",
       "      <th>SMS_received</th>\n",
       "      <th>No-show</th>\n",
       "    </tr>\n",
       "  </thead>\n",
       "  <tbody>\n",
       "  </tbody>\n",
       "</table>\n",
       "</div>"
      ],
      "text/plain": [
       "Empty DataFrame\n",
       "Columns: [PatientId, AppointmentID, Gender, ScheduledDay, AppointmentDay, Age, Neighbourhood, Scholarship, Hipertension, Diabetes, Alcoholism, Handcap, SMS_received, No-show]\n",
       "Index: []"
      ]
     },
     "execution_count": 16,
     "metadata": {},
     "output_type": "execute_result"
    }
   ],
   "source": [
    "#check for duplicates\n",
    "data[data.duplicated(keep=False)]"
   ]
  },
  {
   "cell_type": "code",
   "execution_count": 17,
   "id": "e2cecf42",
   "metadata": {},
   "outputs": [
    {
     "data": {
      "text/plain": [
       "(110527, 14)"
      ]
     },
     "execution_count": 17,
     "metadata": {},
     "output_type": "execute_result"
    }
   ],
   "source": [
    "data.shape"
   ]
  },
  {
   "cell_type": "code",
   "execution_count": 18,
   "id": "c725cb42",
   "metadata": {},
   "outputs": [],
   "source": [
    "# there are no duplicates in the provided data"
   ]
  },
  {
   "cell_type": "markdown",
   "id": "35334a4f",
   "metadata": {},
   "source": [
    "## Demographic Analysis"
   ]
  },
  {
   "cell_type": "code",
   "execution_count": 19,
   "id": "5012d109",
   "metadata": {},
   "outputs": [
    {
     "data": {
      "text/plain": [
       "array(['No', 'Yes'], dtype=object)"
      ]
     },
     "execution_count": 19,
     "metadata": {},
     "output_type": "execute_result"
    }
   ],
   "source": [
    "data['No-show'].unique()"
   ]
  },
  {
   "cell_type": "code",
   "execution_count": 20,
   "id": "ae9199d4",
   "metadata": {},
   "outputs": [
    {
     "data": {
      "text/plain": [
       "<AxesSubplot:title={'center':'Attendance'}, ylabel='No-show'>"
      ]
     },
     "execution_count": 20,
     "metadata": {},
     "output_type": "execute_result"
    },
    {
     "data": {
      "image/png": "[encoded data removed]",
      "text/plain": [
       "<Figure size 432x288 with 1 Axes>"
      ]
     },
     "metadata": {},
     "output_type": "display_data"
    }
   ],
   "source": [
    "data['No-show'].value_counts(normalize=True).plot(kind = 'pie', title = \"Attendance\",autopct='%1.2f%%')"
   ]
  },
  {
   "cell_type": "code",
   "execution_count": 21,
   "id": "5d579877",
   "metadata": {},
   "outputs": [
    {
     "data": {
      "text/plain": [
       "F    71840\n",
       "M    38687\n",
       "Name: Gender, dtype: int64"
      ]
     },
     "execution_count": 21,
     "metadata": {},
     "output_type": "execute_result"
    }
   ],
   "source": [
    "gender = data['Gender'].value_counts()\n",
    "gender"
   ]
  },
  {
   "cell_type": "code",
   "execution_count": 22,
   "id": "db6e2559",
   "metadata": {},
   "outputs": [
    {
     "data": {
      "text/plain": [
       "No     88208\n",
       "Yes    22319\n",
       "Name: No-show, dtype: int64"
      ]
     },
     "execution_count": 22,
     "metadata": {},
     "output_type": "execute_result"
    }
   ],
   "source": [
    "app = data['No-show'].value_counts()\n",
    "app"
   ]
  },
  {
   "cell_type": "code",
   "execution_count": 38,
   "id": "347132eb",
   "metadata": {},
   "outputs": [
    {
     "data": {
      "image/png": "[encoded data removed]",
      "text/plain": [
       "<Figure size 360x432 with 1 Axes>"
      ]
     },
     "metadata": {
      "needs_background": "light"
     },
     "output_type": "display_data"
    }
   ],
   "source": [
    "gender = data['Gender'].value_counts()\n",
    "plt.figure(figsize=(5, 6))\n",
    "ax = gender.plot(kind='bar', rot=0, color=\"c\")\n",
    "ax.set_title(\"Bar Graph of Gender\", y = 1)\n",
    "ax.set_xlabel('Gender')\n",
    "ax.set_ylabel('Number of People')\n",
    "ax.set_xticklabels(('Female', 'Male'))\n",
    "\n",
    "for rect in ax.patches:\n",
    "    y_value = rect.get_height()\n",
    "    x_value = rect.get_x() + rect.get_width() / 2\n",
    "    space = 1\n",
    "    label = format(y_value)\n",
    "    ax.annotate(label, (x_value, y_value), xytext=(0, space), textcoords=\"offset points\", ha='center', va='bottom')    \n",
    "plt.show()"
   ]
  },
  {
   "cell_type": "code",
   "execution_count": 24,
   "id": "a084e43f",
   "metadata": {},
   "outputs": [
    {
     "data": {
      "image/png": "[encoded data removed]",
      "text/plain": [
       "<Figure size 432x288 with 1 Axes>"
      ]
     },
     "metadata": {
      "needs_background": "light"
     },
     "output_type": "display_data"
    }
   ],
   "source": [
    "df_app = data.groupby('AppointmentID')[['No-show', 'Gender']].first()\n",
    "# give names to the values in the columns\n",
    "df_app = df_app.replace({'Gender': {'M': 'Male', 'F': 'Female'}, 'No-show': {'No': 'Attended', 'Yes': 'Missed'}})\n",
    "# show counts per Gender and Attendance\n",
    "ax = sns.countplot(data=df_app, x='Gender', hue='No-show', palette='rocket')\n",
    "ax.legend(title='')  # remove title, as it is clear from the legend items\n",
    "ax.set_xlabel('')\n",
    "for bars in ax.containers:\n",
    "    ax.bar_label(bars)\n",
    "# ax.margins(y=0.1)  # make some extra space for the labels\n",
    "ax.locator_params(axis='y', integer=True)\n",
    "sns.despine()\n",
    "plt.show()"
   ]
  },
  {
   "cell_type": "code",
   "execution_count": 42,
   "id": "7dec3915",
   "metadata": {},
   "outputs": [
    {
     "data": {
      "text/plain": [
       "0.7968541202672605"
      ]
     },
     "execution_count": 42,
     "metadata": {},
     "output_type": "execute_result"
    }
   ],
   "source": [
    "57246/(14594+57246)\n",
    "#30962/(30962+7725)"
   ]
  },
  {
   "cell_type": "code",
   "execution_count": 25,
   "id": "0816f2bf",
   "metadata": {},
   "outputs": [
    {
     "data": {
      "text/plain": [
       "Index(['No-show', 'Gender'], dtype='object')"
      ]
     },
     "execution_count": 25,
     "metadata": {},
     "output_type": "execute_result"
    }
   ],
   "source": [
    "df_app.keys()"
   ]
  },
  {
   "cell_type": "code",
   "execution_count": 26,
   "id": "89f85e58",
   "metadata": {},
   "outputs": [
    {
     "data": {
      "text/plain": [
       "<AxesSubplot:title={'center':'Attendance'}, ylabel='No-show'>"
      ]
     },
     "execution_count": 26,
     "metadata": {},
     "output_type": "execute_result"
    },
    {
     "data": {
      "image/png": "[encoded data removed]",
      "text/plain": [
       "<Figure size 432x288 with 1 Axes>"
      ]
     },
     "metadata": {},
     "output_type": "display_data"
    }
   ],
   "source": [
    "df_app['No-show'].value_counts(normalize=True).plot(kind = 'pie', title = \"Attendance\",autopct='%1.2f%%')"
   ]
  },
  {
   "cell_type": "code",
   "execution_count": 27,
   "id": "a9a17e21",
   "metadata": {},
   "outputs": [],
   "source": [
    "df_age = data.groupby('AppointmentID')[['No-show','Age', 'Gender']].first()"
   ]
  },
  {
   "cell_type": "code",
   "execution_count": 28,
   "id": "1a0a3acb",
   "metadata": {},
   "outputs": [
    {
     "data": {
      "text/plain": [
       "count    110527.000000\n",
       "mean         37.088874\n",
       "std          23.110205\n",
       "min          -1.000000\n",
       "25%          18.000000\n",
       "50%          37.000000\n",
       "75%          55.000000\n",
       "max         115.000000\n",
       "Name: Age, dtype: float64"
      ]
     },
     "execution_count": 28,
     "metadata": {},
     "output_type": "execute_result"
    }
   ],
   "source": [
    "df_age.describe().Age"
   ]
  },
  {
   "cell_type": "code",
   "execution_count": null,
   "id": "345b4eef",
   "metadata": {},
   "outputs": [],
   "source": [
    "binning "
   ]
  },
  {
   "cell_type": "markdown",
   "id": "9f507cd8",
   "metadata": {},
   "source": [
    "Binning the age into age groups"
   ]
  },
  {
   "cell_type": "code",
   "execution_count": 32,
   "id": "022e282f",
   "metadata": {},
   "outputs": [],
   "source": [
    "bins= [10,20,30,40,50,100]\n",
    "labels = ['Child','Teen','Adult','Senior','Elder']\n",
    "df_age['AgeGroup'] = pd.cut(df_age['Age'], bins=bins, labels=labels, right=False)\n",
    "df_age = df_age.replace({'Gender': {'M': 'Male', 'F': 'Female'}, 'No-show': {'No': 'Attended', 'Yes': 'Missed'}})"
   ]
  },
  {
   "cell_type": "code",
   "execution_count": null,
   "id": "cd8f13e2",
   "metadata": {},
   "outputs": [],
   "source": [
    "#data.loc[(data.Age < 13),  'AgeGroup'] = 'Child'"
   ]
  },
  {
   "cell_type": "code",
   "execution_count": 33,
   "id": "3dc24175",
   "metadata": {},
   "outputs": [
    {
     "data": {
      "text/html": [
       "<div>\n",
       "<style scoped>\n",
       "    .dataframe tbody tr th:only-of-type {\n",
       "        vertical-align: middle;\n",
       "    }\n",
       "\n",
       "    .dataframe tbody tr th {\n",
       "        vertical-align: top;\n",
       "    }\n",
       "\n",
       "    .dataframe thead th {\n",
       "        text-align: right;\n",
       "    }\n",
       "</style>\n",
       "<table border=\"1\" class=\"dataframe\">\n",
       "  <thead>\n",
       "    <tr style=\"text-align: right;\">\n",
       "      <th></th>\n",
       "      <th>No-show</th>\n",
       "      <th>Age</th>\n",
       "      <th>Gender</th>\n",
       "      <th>AgeGroup</th>\n",
       "    </tr>\n",
       "    <tr>\n",
       "      <th>AppointmentID</th>\n",
       "      <th></th>\n",
       "      <th></th>\n",
       "      <th></th>\n",
       "      <th></th>\n",
       "    </tr>\n",
       "  </thead>\n",
       "  <tbody>\n",
       "    <tr>\n",
       "      <th>5030230</th>\n",
       "      <td>Attended</td>\n",
       "      <td>51</td>\n",
       "      <td>Female</td>\n",
       "      <td>Elder</td>\n",
       "    </tr>\n",
       "    <tr>\n",
       "      <th>5122866</th>\n",
       "      <td>Missed</td>\n",
       "      <td>34</td>\n",
       "      <td>Male</td>\n",
       "      <td>Adult</td>\n",
       "    </tr>\n",
       "    <tr>\n",
       "      <th>5134197</th>\n",
       "      <td>Missed</td>\n",
       "      <td>27</td>\n",
       "      <td>Female</td>\n",
       "      <td>Teen</td>\n",
       "    </tr>\n",
       "  </tbody>\n",
       "</table>\n",
       "</div>"
      ],
      "text/plain": [
       "                No-show  Age  Gender AgeGroup\n",
       "AppointmentID                                \n",
       "5030230        Attended   51  Female    Elder\n",
       "5122866          Missed   34    Male    Adult\n",
       "5134197          Missed   27  Female     Teen"
      ]
     },
     "execution_count": 33,
     "metadata": {},
     "output_type": "execute_result"
    }
   ],
   "source": [
    "df_age.head(3)"
   ]
  },
  {
   "cell_type": "code",
   "execution_count": 37,
   "id": "2be2f226",
   "metadata": {},
   "outputs": [
    {
     "data": {
      "text/plain": [
       "<AxesSubplot:title={'center':'Demographic Distribution'}, ylabel='AgeGroup'>"
      ]
     },
     "execution_count": 37,
     "metadata": {},
     "output_type": "execute_result"
    },
    {
     "data": {
      "image/png": "[encoded data removed]",
      "text/plain": [
       "<Figure size 432x288 with 1 Axes>"
      ]
     },
     "metadata": {},
     "output_type": "display_data"
    }
   ],
   "source": [
    "df_age['AgeGroup'].value_counts(normalize=True).plot(kind = 'pie', title = \"Demographic Distribution\",autopct='%1.2f%%')"
   ]
  },
  {
   "cell_type": "code",
   "execution_count": 34,
   "id": "35d9f015",
   "metadata": {},
   "outputs": [
    {
     "data": {
      "image/png": "[encoded data removed]",
      "text/plain": [
       "<Figure size 432x288 with 1 Axes>"
      ]
     },
     "metadata": {
      "needs_background": "light"
     },
     "output_type": "display_data"
    }
   ],
   "source": [
    "# show counts per Gender and Attendance\n",
    "ax = sns.countplot(data=df_age, x='AgeGroup', hue='No-show', palette='rocket')\n",
    "ax.legend(title='')  # remove title, as it is clear from the legend items\n",
    "ax.set_xlabel('')\n",
    "for bars in ax.containers:\n",
    "    ax.bar_label(bars)\n",
    "# ax.margins(y=0.1)  # make some extra space for the labels\n",
    "ax.locator_params(axis='y', integer=True)\n",
    "sns.despine()\n",
    "plt.show()"
   ]
  },
  {
   "cell_type": "code",
   "execution_count": 36,
   "id": "c7915d53",
   "metadata": {},
   "outputs": [
    {
     "data": {
      "text/plain": [
       "<AxesSubplot:title={'center':'Demographic Distribution'}, ylabel='AgeGroup'>"
      ]
     },
     "execution_count": 36,
     "metadata": {},
     "output_type": "execute_result"
    },
    {
     "data": {
      "image/png": "[encoded data removed]",
      "text/plain": [
       "<Figure size 432x288 with 1 Axes>"
      ]
     },
     "metadata": {},
     "output_type": "display_data"
    }
   ],
   "source": [
    "df_hood = "
   ]
  },
  {
   "cell_type": "markdown",
   "id": "565eba71",
   "metadata": {},
   "source": [
    "# DATA INSIGHTS"
   ]
  },
  {
   "cell_type": "markdown",
   "id": "2732afa3",
   "metadata": {},
   "source": [
    "There tracked metrics and dimensions have given a brief dive into the dataset. This is to answer the questions such as effects of age on attendance,effects narrowed down to particular age groups,neighbourhoods and gender.\n",
    "This can be broken into demographics analysis,diagnosis analysis and technological. The focus so far has been on the demographics- age,location.\n",
    "The diagnosis could be related to the hipertension,diabetes,with technological being the sms.\n",
    "\n",
    "**Demographic**\n",
    "There are more females in the data as compared to the male, number of females who missed doubled that of male.Male had 80% attendance and female 79%. There are factors that influence the females to miss. Could this be staying at home? responsibilities?..more can be asked.\n",
    "The population had more 'adults' making 39% of the data.\n"
   ]
  },
  {
   "cell_type": "markdown",
   "id": "49daa752",
   "metadata": {},
   "source": [
    "# Further Analysis"
   ]
  },
  {
   "cell_type": "markdown",
   "id": "e83c3ddd",
   "metadata": {},
   "source": [
    "Further analysis will be done on this dataset to look into this dataset including time series analysis to see the effects of the booking dates on attendance. Using machine learining techniques,in particular the binary classifiers, the no-show as target column can be used to predict whether  patient will attend or miss based on the features.\n",
    "The notebook will have more updates."
   ]
  },
  {
   "cell_type": "markdown",
   "id": "cd862db1",
   "metadata": {},
   "source": [
    "# REFERENCES\n",
    "    1.NA"
   ]
  },
  {
   "cell_type": "code",
   "execution_count": null,
   "id": "5cda713d",
   "metadata": {},
   "outputs": [],
   "source": []
  }
 ],
 "metadata": {
  "kernelspec": {
   "display_name": "Python 3 (ipykernel)",
   "language": "python",
   "name": "python3"
  },
  "language_info": {
   "codemirror_mode": {
    "name": "ipython",
    "version": 3
   },
   "file_extension": ".py",
   "mimetype": "text/x-python",
   "name": "python",
   "nbconvert_exporter": "python",
   "pygments_lexer": "ipython3",
   "version": "3.10.4"
  }
 },
 "nbformat": 4,
 "nbformat_minor": 5
}
