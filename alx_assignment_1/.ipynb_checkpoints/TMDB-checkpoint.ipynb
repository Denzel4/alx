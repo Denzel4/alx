{
 "cells": [
  {
   "cell_type": "code",
   "execution_count": null,
   "id": "8aa2a52d",
   "metadata": {},
   "outputs": [],
   "source": [
    "\n",
    "survived = df.Survived == True\n",
    "died = df.Survived == False\n",
    "df.Fare[survived].mean()\n",
    "df.Fare[died].mean()\n",
    "\n",
    "df.Fare[survivied].hist(alpha=0.5, bins=20, label='survived')\n",
    "df.Fare[died].hist(alpha=0.5, bins=20, label='died')\n",
    "plt.legend();\n",
    "df.groupby('Pclass').Survived.mean()\n",
    "df.groupby('Pclass').Survived.mean().plot(kind= 'bar');\n",
    "\n",
    "df.Age[survivied].hist(alpha=0.5, bins=20, label='survived')\n",
    "df.Age[died].hist(alpha=0.5, bins=20, label='died')\n",
    "plt.legend();\n",
    "\n",
    "df.groupby('Sex').Survived.mean().plot(kind= 'bar');\n",
    "df.Sex.value_counts()\n",
    "\n",
    "df.groupby('Sex')['Pclass'].value_counts()\n",
    "df.query('Sex == \"female\"')['Fare'].median(), df.query('Sex == \"male\"')['Fare'].median()\n",
    "\n",
    "df.groupby(['Pclass', 'Sex']).Survived.mean().plot(kind='bar');"
   ]
  },
  {
   "cell_type": "code",
   "execution_count": null,
   "id": "c9a9b2d8",
   "metadata": {},
   "outputs": [],
   "source": [
    "df.SibSp[survived].value_counts().plot(kind='bar',alpha=0.5, color= 'blue', label='survived')\n",
    "df.SibSp[died].value_counts().plot(kind='bar',alpha=0.5, color= 'orange', label='died')\n",
    "plt.legend();"
   ]
  },
  {
   "cell_type": "code",
   "execution_count": null,
   "id": "ebc097ac",
   "metadata": {},
   "outputs": [],
   "source": [
    "df.Parch[survived].value_counts().plot(kind='bar',alpha=0.5, color= 'blue', label='survived')\n",
    "df.Parch[died].value_counts().plot(kind='bar',alpha=0.5, color= 'orange', label='died')\n",
    "plt.legend();\n",
    "\n",
    "df.Embarked[survived].value_counts().plot(kind='bar',alpha=0.5, color= 'blue', label='survived')\n",
    "df.Embarked[died].value_counts().plot(kind='bar',alpha=0.5, color= 'orange', label='died')\n",
    "plt.legend();"
   ]
  }
 ],
 "metadata": {
  "kernelspec": {
   "display_name": "Python 3 (ipykernel)",
   "language": "python",
   "name": "python3"
  },
  "language_info": {
   "codemirror_mode": {
    "name": "ipython",
    "version": 3
   },
   "file_extension": ".py",
   "mimetype": "text/x-python",
   "name": "python",
   "nbconvert_exporter": "python",
   "pygments_lexer": "ipython3",
   "version": "3.10.4"
  }
 },
 "nbformat": 4,
 "nbformat_minor": 5
}
